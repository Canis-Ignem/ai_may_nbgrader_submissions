{
 "cells": [
  {
   "cell_type": "markdown",
   "id": "cf26ab5e",
   "metadata": {
    "deletable": false,
    "editable": false,
    "nbgrader": {
     "cell_type": "markdown",
     "checksum": "7647a1330b7d39b9874a93c2dbfe28bc",
     "grade": false,
     "grade_id": "cell-21003a50c1c1852b",
     "locked": true,
     "schema_version": 3,
     "solution": false,
     "task": false
    }
   },
   "source": [
    "# Pandas NBgrader exercises\n",
    "\n",
    "In this notebook you will find the 6 deliverable exercises regarding pandas. This notebook is autograded so please dont modify any cell except to add your solution. Modifying this notebook may result in you not getting a grade."
   ]
  },
  {
   "cell_type": "code",
   "execution_count": 1158,
   "id": "7ff03cbd",
   "metadata": {},
   "outputs": [],
   "source": [
    "import pandas as pd\n",
    "import numpy as np"
   ]
  },
  {
   "cell_type": "code",
   "execution_count": 1159,
   "id": "21a12243",
   "metadata": {},
   "outputs": [
    {
     "output_type": "stream",
     "name": "stdout",
     "text": [
      "  animal  age  visits priority\na    cat  2.5       1      yes\nb    cat  3.0       3      yes\nc  snake  0.5       2       no\nd    dog  NaN       3      yes\ne    dog  5.0       2       no\nf    cat  2.0       3       no\ng  snake  4.5       1       no\nh    cat  NaN       1      yes\ni    dog  7.0       2       no\nj    dog  3.0       1       no\n\n\n"
     ]
    }
   ],
   "source": [
    "data = {'animal': ['cat', 'cat', 'snake', 'dog', 'dog', 'cat', 'snake', 'cat', 'dog', 'dog'],\n",
    "        'age': [2.5, 3, 0.5, np.nan, 5, 2, 4.5, np.nan, 7, 3],\n",
    "        'visits': [1, 3, 2, 3, 2, 3, 1, 1, 2, 1],\n",
    "        'priority': ['yes', 'yes', 'no', 'yes', 'no', 'no', 'no', 'yes', 'no', 'no']}\n",
    "\n",
    "labels = ['a', 'b', 'c', 'd', 'e', 'f', 'g', 'h', 'i', 'j']\n",
    "\n",
    "\n",
    "df = pd.DataFrame(data, index=labels)\n",
    "\n",
    "print(df)\n",
    "print('\\n')\n",
    "\n",
    "\n"
   ]
  },
  {
   "cell_type": "markdown",
   "id": "58fb9b78",
   "metadata": {
    "deletable": false,
    "editable": false,
    "nbgrader": {
     "cell_type": "markdown",
     "checksum": "a75bdec57da90efbd30ebd29186b8c93",
     "grade": false,
     "grade_id": "cell-d72b080638835116",
     "locked": true,
     "schema_version": 3,
     "solution": false,
     "task": false
    }
   },
   "source": [
    "**13.** Change the age in row 'f' to 1.5."
   ]
  },
  {
   "cell_type": "code",
   "execution_count": 1160,
   "id": "109a33e5",
   "metadata": {
    "deletable": false,
    "nbgrader": {
     "cell_type": "code",
     "checksum": "f9c245dc64614e17fbbd8a84562ef924",
     "grade": false,
     "grade_id": "cell-f8d4a64dd0fb6112",
     "locked": false,
     "schema_version": 3,
     "solution": true,
     "task": false
    }
   },
   "outputs": [
    {
     "output_type": "stream",
     "name": "stdout",
     "text": [
      "2.0\n2.0\n\n\n  animal  age  visits priority\na    cat  2.5       1      yes\nb    cat  3.0       3      yes\nc  snake  0.5       2       no\nd    dog  NaN       3      yes\ne    dog  5.0       2       no\nf    cat  1.5       3       no\ng  snake  4.5       1       no\nh    cat  NaN       1      yes\ni    dog  7.0       2       no\nj    dog  3.0       1       no\n"
     ]
    }
   ],
   "source": [
    "# YOUR CODE HERE\n",
    "\n",
    "#tinkering with loc and iloc\n",
    "print(df.loc['f','age'])\n",
    "print(df.iloc[5,1])\n",
    "\n",
    "\n",
    "\n",
    "df.loc['f','age'] =1.5\n",
    "print('\\n')\n",
    "print(df)\n",
    "\n",
    "#raise NotImplementedError()"
   ]
  },
  {
   "cell_type": "code",
   "execution_count": 1161,
   "id": "73e90086",
   "metadata": {
    "deletable": false,
    "editable": false,
    "nbgrader": {
     "cell_type": "code",
     "checksum": "1872d896ab61e9e8bb33b32b5019f2b8",
     "grade": true,
     "grade_id": "cell-675b0274a23f22c9",
     "locked": true,
     "points": 1,
     "schema_version": 3,
     "solution": false,
     "task": false
    }
   },
   "outputs": [],
   "source": [
    "assert df['age']['f'] == 1.5"
   ]
  },
  {
   "cell_type": "markdown",
   "id": "7b081c55",
   "metadata": {},
   "source": [
    "**18.** Sort `df` first by the values in the 'age' in *decending* order, then by the value in the 'visit' column in *ascending* order."
   ]
  },
  {
   "cell_type": "code",
   "execution_count": 1162,
   "id": "513ddcc9",
   "metadata": {
    "deletable": false,
    "nbgrader": {
     "cell_type": "code",
     "checksum": "80f41c23d8711123bdb2f978e342c0cd",
     "grade": false,
     "grade_id": "cell-bb44e438722da485",
     "locked": false,
     "schema_version": 3,
     "solution": true,
     "task": false
    }
   },
   "outputs": [
    {
     "output_type": "stream",
     "name": "stdout",
     "text": [
      "Unsorted Dataframe\n  animal  age  visits priority\na    cat  2.5       1      yes\nb    cat  3.0       3      yes\nc  snake  0.5       2       no\nd    dog  NaN       3      yes\ne    dog  5.0       2       no\nf    cat  1.5       3       no\ng  snake  4.5       1       no\nh    cat  NaN       1      yes\ni    dog  7.0       2       no\nj    dog  3.0       1       no\n\n\nIf doing sorting one by one\n  animal  age  visits priority\ni    dog  7.0       2       no\ne    dog  5.0       2       no\ng  snake  4.5       1       no\nb    cat  3.0       3      yes\nj    dog  3.0       1       no\na    cat  2.5       1      yes\nf    cat  1.5       3       no\nc  snake  0.5       2       no\nd    dog  NaN       3      yes\nh    cat  NaN       1      yes\n\n\n  animal  age  visits priority\na    cat  2.5       1      yes\ng  snake  4.5       1       no\nh    cat  NaN       1      yes\nj    dog  3.0       1       no\nc  snake  0.5       2       no\ne    dog  5.0       2       no\ni    dog  7.0       2       no\nb    cat  3.0       3      yes\nd    dog  NaN       3      yes\nf    cat  1.5       3       no\n\n\nDouble Sorted Dataframe\n  animal  age  visits priority\ni    dog  7.0       2       no\ne    dog  5.0       2       no\ng  snake  4.5       1       no\nj    dog  3.0       1       no\nb    cat  3.0       3      yes\na    cat  2.5       1      yes\nf    cat  1.5       3       no\nc  snake  0.5       2       no\nh    cat  NaN       1      yes\nd    dog  NaN       3      yes\n"
     ]
    }
   ],
   "source": [
    "# YOUR CODE HERE\n",
    "print('Unsorted Dataframe')\n",
    "print(df)\n",
    "print('\\n')\n",
    "\n",
    "#Just some check and comparison here, moving on\n",
    "\n",
    "print('If doing sorting one by one')\n",
    "dfsort1=df.sort_values(by='age',ascending=False)\n",
    "print(dfsort1)\n",
    "print('\\n')\n",
    "dfsort2=df.sort_values(by='visits')\n",
    "print(dfsort2)\n",
    "print('\\n')\n",
    "\n",
    "#Final Product!\n",
    "print('Double Sorted Dataframe')\n",
    "df=df.sort_values(['age','visits'],ascending=[False,True])\n",
    "print(df)\n",
    "\n",
    "\n",
    "#raise NotImplementedError()"
   ]
  },
  {
   "cell_type": "code",
   "execution_count": 1163,
   "id": "c214a859",
   "metadata": {
    "deletable": false,
    "editable": false,
    "nbgrader": {
     "cell_type": "code",
     "checksum": "9994a792b5a92e65fb57b1c7b92f103d",
     "grade": true,
     "grade_id": "cell-9fa22615a21cf3f1",
     "locked": true,
     "points": 1,
     "schema_version": 3,
     "solution": false,
     "task": false
    }
   },
   "outputs": [],
   "source": [
    "b = True\n",
    "\n",
    "for i in range(df.shape[0]-1):\n",
    "    if df['age'].values[i] < df['age'].values[i]:\n",
    "        b = False\n",
    "        break\n",
    "    \n",
    "assert b\n",
    "    "
   ]
  },
  {
   "cell_type": "markdown",
   "id": "44323c46",
   "metadata": {},
   "source": [
    "**23.** Given a DataFrame of numeric values, say\n",
    "```python\n",
    "df = pd.DataFrame(np.random.random(size=(5, 3))) # a 5x3 frame of float values\n",
    "```\n",
    "\n",
    "how do you subtract the row mean from each element in the row?"
   ]
  },
  {
   "cell_type": "code",
   "execution_count": 1164,
   "id": "f8f543b2",
   "metadata": {
    "deletable": false,
    "nbgrader": {
     "cell_type": "code",
     "checksum": "9ea2abdeafe9a27a3b5c6e01bb58d8a0",
     "grade": false,
     "grade_id": "cell-5137285459670e80",
     "locked": false,
     "schema_version": 3,
     "solution": true,
     "task": false
    }
   },
   "outputs": [
    {
     "output_type": "stream",
     "name": "stdout",
     "text": [
      "          0         1         2\n0  0.752582  0.292908  0.277526\n1  0.536831  0.289667  0.462835\n2  0.912608  0.239012  0.257947\n3  0.668591  0.407621  0.662041\n4  0.355641  0.952029  0.405127\n\n\nAverage of each row\n\n0    0.441005\n1    0.429778\n2    0.469856\n3    0.579418\n4    0.570933\ndtype: float64\n\n\n"
     ]
    },
    {
     "output_type": "execute_result",
     "data": {
      "text/plain": [
       "          0         1         2\n",
       "0  0.311577 -0.148097 -0.163479\n",
       "1  0.107053 -0.140110  0.033057\n",
       "2  0.442752 -0.230844 -0.211909\n",
       "3  0.089173 -0.171797  0.082624\n",
       "4 -0.215291  0.381096 -0.165805"
      ],
      "text/html": "<div>\n<style scoped>\n    .dataframe tbody tr th:only-of-type {\n        vertical-align: middle;\n    }\n\n    .dataframe tbody tr th {\n        vertical-align: top;\n    }\n\n    .dataframe thead th {\n        text-align: right;\n    }\n</style>\n<table border=\"1\" class=\"dataframe\">\n  <thead>\n    <tr style=\"text-align: right;\">\n      <th></th>\n      <th>0</th>\n      <th>1</th>\n      <th>2</th>\n    </tr>\n  </thead>\n  <tbody>\n    <tr>\n      <th>0</th>\n      <td>0.311577</td>\n      <td>-0.148097</td>\n      <td>-0.163479</td>\n    </tr>\n    <tr>\n      <th>1</th>\n      <td>0.107053</td>\n      <td>-0.140110</td>\n      <td>0.033057</td>\n    </tr>\n    <tr>\n      <th>2</th>\n      <td>0.442752</td>\n      <td>-0.230844</td>\n      <td>-0.211909</td>\n    </tr>\n    <tr>\n      <th>3</th>\n      <td>0.089173</td>\n      <td>-0.171797</td>\n      <td>0.082624</td>\n    </tr>\n    <tr>\n      <th>4</th>\n      <td>-0.215291</td>\n      <td>0.381096</td>\n      <td>-0.165805</td>\n    </tr>\n  </tbody>\n</table>\n</div>"
     },
     "metadata": {},
     "execution_count": 1164
    }
   ],
   "source": [
    "# YOUR CODE HERE\n",
    "df=pd.DataFrame(np.random.random(size=(5, 3)))\n",
    "\n",
    "print(df)\n",
    "\n",
    "#This only changes column\n",
    "\"\"\"\n",
    "dfr[0]=1\n",
    "print(dfr)\n",
    "\"\"\"\n",
    "print('\\n')\n",
    "print('Average of each row')\n",
    "dfrmean=df.mean(axis=1)\n",
    "print()\n",
    "print(dfrmean)\n",
    "print('\\n')\n",
    "\n",
    "df.sub(df.mean(axis=1), axis=0)\n",
    "# raise NotImplementedError()"
   ]
  },
  {
   "cell_type": "code",
   "execution_count": 1165,
   "id": "17b47bf1",
   "metadata": {
    "deletable": false,
    "editable": false,
    "nbgrader": {
     "cell_type": "code",
     "checksum": "f90e767793f0b8bb939565a5a3c4e4fb",
     "grade": true,
     "grade_id": "cell-8ceb24481d7d7a28",
     "locked": true,
     "points": 2,
     "schema_version": 3,
     "solution": false,
     "task": false
    }
   },
   "outputs": [],
   "source": [
    "assert df.shape == (5,3)\n",
    "assert df[0].max() <= 1\n",
    "assert df[0].min() >= -1"
   ]
  },
  {
   "cell_type": "markdown",
   "id": "9997b0e4",
   "metadata": {},
   "source": [
    "**24.** Suppose you have DataFrame with 10 columns of real numbers, for example:\n",
    "\n",
    "```python\n",
    "df = pd.DataFrame(np.random.random(size=(5, 10)), columns=list('abcdefghij'))\n",
    "```\n",
    "Which column of numbers has the smallest sum? (Find that column's label.)"
   ]
  },
  {
   "cell_type": "code",
   "execution_count": 1166,
   "id": "49be51c9",
   "metadata": {
    "deletable": false,
    "nbgrader": {
     "cell_type": "code",
     "checksum": "6ab6fa19a5253c63280eb71adfebf362",
     "grade": false,
     "grade_id": "cell-7830a1e1958310b9",
     "locked": false,
     "schema_version": 3,
     "solution": true,
     "task": false
    }
   },
   "outputs": [
    {
     "output_type": "stream",
     "name": "stdout",
     "text": [
      "          a         b         c         d         e         f         g  \\\n0  0.626428  0.358892  0.947710  0.801674  0.411870  0.341481  0.331429   \n1  0.284653  0.963327  0.898613  0.476646  0.786950  0.280324  0.884238   \n2  0.626216  0.121034  0.128346  0.929103  0.007543  0.661995  0.738459   \n3  0.146438  0.587874  0.520264  0.351393  0.481195  0.621067  0.090938   \n4  0.892384  0.115775  0.894150  0.369103  0.318824  0.426968  0.753473   \n\n          h         i         j  \n0  0.257033  0.016056  0.116774  \n1  0.868196  0.576209  0.461462  \n2  0.745047  0.726454  0.991096  \n3  0.232870  0.615508  0.419136  \n4  0.686563  0.767892  0.506150  \n\n\na    2.576119\nb    2.146902\nc    3.389083\nd    2.927918\ne    2.006383\nf    2.331835\ng    2.798537\nh    2.789708\ni    2.702119\nj    2.494618\ndtype: float64\n\n\nthe smallest valued column is e\n"
     ]
    }
   ],
   "source": [
    "# YOUR CODE HERE\n",
    "df = pd.DataFrame(np.random.random(size=(5, 10)), columns=list('abcdefghij'))\n",
    "\n",
    "print(df)\n",
    "print('\\n')\n",
    "\n",
    "dfr2columnsum=df.sum(axis=0)\n",
    "print(dfr2columnsum)\n",
    "print('\\n')\n",
    "\n",
    "dfr2min=dfr2columnsum.min()\n",
    "idx=dfr2columnsum.idxmin()\n",
    "print(f'the smallest valued column is {idx}')\n",
    "#raise NotImplementedError()"
   ]
  },
  {
   "source": [
    "assert idx in 'abcdefghij'"
   ],
   "cell_type": "code",
   "metadata": {
    "deletable": false,
    "editable": false,
    "nbgrader": {
     "cell_type": "code",
     "checksum": "87fb1864d1694cfcc986ee256197c725",
     "grade": true,
     "grade_id": "cell-a0daad4562804d2a",
     "locked": true,
     "points": 2,
     "schema_version": 3,
     "solution": false,
     "task": false
    }
   },
   "execution_count": 1167,
   "outputs": []
  },
  {
   "source": [
    "The next three puzzles are slightly harder...\n",
    "\n",
    "**26.** You have a DataFrame that consists of 10 columns of floating--point numbers. Suppose that exactly 5 entries in each row are NaN values. For each row of the DataFrame, find the *column* which contains the *third* NaN value.\n",
    "\n",
    "(You should return a Series of column labels.)"
   ],
   "cell_type": "markdown",
   "metadata": {}
  },
  {
   "cell_type": "code",
   "execution_count": 1168,
   "id": "aed38335",
   "metadata": {
    "deletable": false,
    "nbgrader": {
     "cell_type": "code",
     "checksum": "f9b4c483a0a3d7ad33e1de0a45630896",
     "grade": false,
     "grade_id": "cell-e4f640a69590b406",
     "locked": false,
     "schema_version": 3,
     "solution": true,
     "task": false
    }
   },
   "outputs": [
    {
     "output_type": "stream",
     "name": "stdout",
     "text": [
      "    1    2    3    4    5    6   7    8    9    10\n0  NaN  NaN  NaN  1.0  1.0  1.0   1  1.0  1.0  1.0\n1  2.0  2.0  2.0  NaN  2.0  NaN   2  NaN  2.0  NaN\n2  NaN  3.0  NaN  3.0  NaN  3.0   3  3.0  3.0  3.0\n3  4.0  NaN  4.0  NaN  4.0  NaN   4  NaN  4.0  4.0\n4  5.0  5.0  5.0  NaN  5.0  NaN   5  NaN  NaN  5.0\n\n      1      2      3      4      5      6      7      8      9      10\n0   True   True   True  False  False  False  False  False  False  False\n1  False  False  False   True  False   True  False   True  False   True\n2   True  False   True  False   True  False  False  False  False  False\n3  False   True  False   True  False   True  False   True  False  False\n4  False  False  False   True  False   True  False   True   True  False\n\n[3, 8, 5, 6, 8]\n"
     ]
    }
   ],
   "source": [
    "# YOUR CODE HERE\n",
    "dfdata = {\n",
    "1:[np.nan,2,np.nan,4,5],\n",
    "2:[np.nan,2,3,np.nan,5],\n",
    "3:[np.nan,2,np.nan,4,5],\n",
    "4:[1,np.nan,3,np.nan,np.nan],\n",
    "5:[1,2,np.nan,4,5],\n",
    "6:[1,np.nan,3,np.nan,np.nan],\n",
    "7:[1,2,3,4,5],\n",
    "8:[1,np.nan,3,np.nan,np.nan],\n",
    "9:[1,2,3,4,np.nan],\n",
    "10:[1,np.nan,3,4,5]}\n",
    "\n",
    "res=pd.DataFrame(dfdata)\n",
    "print(res)\n",
    "print()\n",
    "\n",
    "res = res.isnull()\n",
    "\n",
    "#.isnull is to return boolean values of NaN\n",
    "print(res)\n",
    "#print(dfnull.values[0,0])\n",
    "print()\n",
    "\n",
    "#define index as empty list\n",
    "indexes = []\n",
    "for i in range(dfnull.shape[0]):\n",
    "    counter = 0\n",
    "    locationindex = 1\n",
    "    for j in range(dfnull.shape[1]):\n",
    "        if dfnull.values[i,j]==True:\n",
    "            counter += 1\n",
    "            if counter == 3:\n",
    "                indexes.append(locationindex)\n",
    "                break\n",
    "        locationindex += 1\n",
    "        \n",
    "\n",
    "print(indexes)\n",
    "\n",
    "\n",
    "#for index, row in table.iterrows():\n",
    "\n",
    "\n",
    "\n",
    "#raise NotImplementedError()"
   ]
  },
  {
   "cell_type": "code",
   "execution_count": 1169,
   "id": "391018d1",
   "metadata": {
    "deletable": false,
    "editable": false,
    "nbgrader": {
     "cell_type": "code",
     "checksum": "fa80dfc4b3777b1a7c41b5ba1c03d280",
     "grade": true,
     "grade_id": "cell-182477a2beb50458",
     "locked": true,
     "points": 3,
     "schema_version": 3,
     "solution": false,
     "task": false
    }
   },
   "outputs": [],
   "source": [
    "assert indexes == [3, 8, 5, 6, 8]\n",
    "#assert res.shape == (5,)\n",
    "#assert list(res.values) == [3, 8, 5, 6, 8]"
   ]
  },
  {
   "source": [
    "**27.** A DataFrame has a column of groups 'grps' and and column of numbers 'vals'. For example: \n",
    "\n",
    "```python\n",
    "df = pd.DataFrame({'grps': list('aaabbcaabcccbbc'), \n",
    "                   'vals': [12,345,3,1,45,14,4,52,54,23,235,21,57,3,87]})\n",
    "```\n",
    "For each *group*, find the sum of the three greatest values."
   ],
   "cell_type": "markdown",
   "metadata": {}
  },
  {
   "cell_type": "code",
   "execution_count": 1170,
   "id": "25177de1",
   "metadata": {
    "deletable": false,
    "nbgrader": {
     "cell_type": "code",
     "checksum": "26ce40c0d6394d3cc9069647f6e357b1",
     "grade": false,
     "grade_id": "cell-da30c3e27df05854",
     "locked": false,
     "schema_version": 3,
     "solution": true,
     "task": false
    }
   },
   "outputs": [
    {
     "output_type": "stream",
     "name": "stdout",
     "text": [
      "   grps  vals\n0     a    12\n1     a   345\n2     a     3\n3     b     1\n4     b    45\n5     c    14\n6     a     4\n7     a    52\n8     b    54\n9     c    23\n10    c   235\n11    c    21\n12    b    57\n13    b     3\n14    c    87\n"
     ]
    }
   ],
   "source": [
    "# YOUR CODE HERE\n",
    "df_27 = pd.DataFrame({'grps': list('aaabbcaabcccbbc'), \n",
    "                   'vals': [12,345,3,1,45,14,4,52,54,23,235,21,57,3,87]})\n",
    "print(df_27)\n",
    "#print()\n",
    "\n",
    "df_27 = df_27.sort_values('grps')\n",
    "\n",
    "\n",
    "'''\n",
    "previouslocationindex=0\n",
    "locationindex=0\n",
    "cumulative=0\n",
    "for i in range(df.shape[0]):\n",
    "    if df.grps.values[i] != df.grps.values[i+1]:\n",
    "        locationindex=i\n",
    "        for k in range (df.shape[previouslocationindex]:df.shape[locationindex]):\n",
    "            cumulative=cumulative+df[k]\n",
    "'''\n",
    "\n",
    "#shorter alternative\n",
    "res=df_27.groupby('grps')['vals'].nlargest(3).sum(level=0)\n",
    "\n",
    "\n",
    "\n",
    "#raise NotImplementedError()"
   ]
  },
  {
   "cell_type": "code",
   "execution_count": 1171,
   "id": "f3775db4",
   "metadata": {
    "deletable": false,
    "editable": false,
    "nbgrader": {
     "cell_type": "code",
     "checksum": "a7aa37ae096816ec65ce29051a3effe0",
     "grade": true,
     "grade_id": "cell-dd5c34897ebaa573",
     "locked": true,
     "points": 3,
     "schema_version": 3,
     "solution": false,
     "task": false
    }
   },
   "outputs": [],
   "source": [
    "assert res.values[0] == 409\n",
    "assert res.values[1] == 156\n",
    "assert res.values[2] == 345"
   ]
  }
 ],
 "metadata": {
  "kernelspec": {
   "name": "python3810jvsc74a57bd0850c152f8f84f3548ed5f09fd834180be13dced819bcdf283d955f3afcab8cf5",
   "display_name": "Python 3.8.10 64-bit ('myenv': conda)"
  },
  "language_info": {
   "codemirror_mode": {
    "name": "ipython",
    "version": 3
   },
   "file_extension": ".py",
   "mimetype": "text/x-python",
   "name": "python",
   "nbconvert_exporter": "python",
   "pygments_lexer": "ipython3",
   "version": "3.8.10"
  },
  "varInspector": {
   "cols": {
    "lenName": 16,
    "lenType": 16,
    "lenVar": 40
   },
   "kernels_config": {
    "python": {
     "delete_cmd_postfix": "",
     "delete_cmd_prefix": "del ",
     "library": "var_list.py",
     "varRefreshCmd": "print(var_dic_list())"
    },
    "r": {
     "delete_cmd_postfix": ") ",
     "delete_cmd_prefix": "rm(",
     "library": "var_list.r",
     "varRefreshCmd": "cat(var_dic_list()) "
    }
   },
   "types_to_exclude": [
    "module",
    "function",
    "builtin_function_or_method",
    "instance",
    "_Feature"
   ],
   "window_display": false
  }
 },
 "nbformat": 4,
 "nbformat_minor": 5
}