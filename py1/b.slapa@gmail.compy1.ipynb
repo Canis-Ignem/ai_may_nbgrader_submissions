{
 "cells": [
  {
   "cell_type": "markdown",
   "id": "cf26ab5e",
   "metadata": {
    "deletable": false,
    "editable": false,
    "nbgrader": {
     "cell_type": "markdown",
     "checksum": "7647a1330b7d39b9874a93c2dbfe28bc",
     "grade": false,
     "grade_id": "cell-21003a50c1c1852b",
     "locked": true,
     "schema_version": 3,
     "solution": false,
     "task": false
    }
   },
   "source": [
    "# Pandas NBgrader exercises\n",
    "\n",
    "In this notebook you will find the 6 deliverable exercises regarding pandas. This notebook is autograded so please dont modify any cell except to add your solution. Modifying this notebook may result in you not getting a grade."
   ]
  },
  {
   "cell_type": "code",
   "execution_count": 2,
   "id": "7ff03cbd",
   "metadata": {},
   "outputs": [],
   "source": [
    "import pandas as pd\n",
    "import numpy as np"
   ]
  },
  {
   "cell_type": "code",
   "execution_count": 3,
   "id": "21a12243",
   "metadata": {},
   "outputs": [],
   "source": [
    "data = {'animal': ['cat', 'cat', 'snake', 'dog', 'dog', 'cat', 'snake', 'cat', 'dog', 'dog'],\n",
    "        'age': [2.5, 3, 0.5, np.nan, 5, 2, 4.5, np.nan, 7, 3],\n",
    "        'visits': [1, 3, 2, 3, 2, 3, 1, 1, 2, 1],\n",
    "        'priority': ['yes', 'yes', 'no', 'yes', 'no', 'no', 'no', 'yes', 'no', 'no']}\n",
    "\n",
    "labels = ['a', 'b', 'c', 'd', 'e', 'f', 'g', 'h', 'i', 'j']\n",
    "\n",
    "\n",
    "df = pd.DataFrame(data, index=labels)"
   ]
  },
  {
   "cell_type": "markdown",
   "id": "58fb9b78",
   "metadata": {
    "deletable": false,
    "editable": false,
    "nbgrader": {
     "cell_type": "markdown",
     "checksum": "a75bdec57da90efbd30ebd29186b8c93",
     "grade": false,
     "grade_id": "cell-d72b080638835116",
     "locked": true,
     "schema_version": 3,
     "solution": false,
     "task": false
    }
   },
   "source": [
    "**13.** Change the age in row 'f' to 1.5."
   ]
  },
  {
   "cell_type": "code",
   "execution_count": 4,
   "id": "109a33e5",
   "metadata": {
    "deletable": false,
    "nbgrader": {
     "cell_type": "code",
     "checksum": "f9c245dc64614e17fbbd8a84562ef924",
     "grade": false,
     "grade_id": "cell-f8d4a64dd0fb6112",
     "locked": false,
     "schema_version": 3,
     "solution": true,
     "task": false
    }
   },
   "outputs": [],
   "source": [
    "# YOUR CODE HERE\n",
    "df.loc['f','age'] = 1.5"
   ]
  },
  {
   "cell_type": "code",
   "execution_count": 5,
   "id": "73e90086",
   "metadata": {
    "deletable": false,
    "editable": false,
    "nbgrader": {
     "cell_type": "code",
     "checksum": "1872d896ab61e9e8bb33b32b5019f2b8",
     "grade": true,
     "grade_id": "cell-675b0274a23f22c9",
     "locked": true,
     "points": 1,
     "schema_version": 3,
     "solution": false,
     "task": false
    }
   },
   "outputs": [],
   "source": [
    "assert df['age']['f'] == 1.5"
   ]
  },
  {
   "cell_type": "markdown",
   "id": "7b081c55",
   "metadata": {},
   "source": [
    "**18.** Sort `df` first by the values in the 'age' in *decending* order, then by the value in the 'visit' column in *ascending* order."
   ]
  },
  {
   "cell_type": "code",
   "execution_count": 8,
   "id": "513ddcc9",
   "metadata": {
    "deletable": false,
    "nbgrader": {
     "cell_type": "code",
     "checksum": "80f41c23d8711123bdb2f978e342c0cd",
     "grade": false,
     "grade_id": "cell-bb44e438722da485",
     "locked": false,
     "schema_version": 3,
     "solution": true,
     "task": false
    }
   },
   "outputs": [],
   "source": [
    "df = df.sort_values(by='visits')                    # FIRST we sort by 'visits'\n",
    "df = df.sort_values(by='age', ascending = False)    # THEN  we sort by 'age'\n",
    "                                                    # that's how we get it sorted by 'age' first and 'age' second\n",
    "# later i saw it's possible this way:\n",
    "# df.sort_values(['age', 'visits'], ascending=[False, True])\n"
   ]
  },
  {
   "cell_type": "code",
   "execution_count": 9,
   "id": "c214a859",
   "metadata": {
    "deletable": false,
    "editable": false,
    "nbgrader": {
     "cell_type": "code",
     "checksum": "9994a792b5a92e65fb57b1c7b92f103d",
     "grade": true,
     "grade_id": "cell-9fa22615a21cf3f1",
     "locked": true,
     "points": 1,
     "schema_version": 3,
     "solution": false,
     "task": false
    }
   },
   "outputs": [],
   "source": [
    "b = True\n",
    "\n",
    "for i in range(df.shape[0]-1):\n",
    "    if df['age'].values[i] < df['age'].values[i+1]:\n",
    "        b = False\n",
    "        break\n",
    "    \n",
    "assert b\n",
    "   "
   ]
  },
  {
   "cell_type": "markdown",
   "id": "44323c46",
   "metadata": {},
   "source": [
    "**23.** Given a DataFrame of numeric values, say\n",
    "```python\n",
    "df = pd.DataFrame(np.random.random(size=(5, 3))) # a 5x3 frame of float values\n",
    "```\n",
    "\n",
    "how do you subtract the row mean from each element in the row?"
   ]
  },
  {
   "cell_type": "code",
   "execution_count": 11,
   "id": "f8f543b2",
   "metadata": {
    "deletable": false,
    "nbgrader": {
     "cell_type": "code",
     "checksum": "9ea2abdeafe9a27a3b5c6e01bb58d8a0",
     "grade": false,
     "grade_id": "cell-5137285459670e80",
     "locked": false,
     "schema_version": 3,
     "solution": true,
     "task": false
    }
   },
   "outputs": [
    {
     "output_type": "stream",
     "name": "stdout",
     "text": [
      "          0         1         2\n0  0.017135  0.158370 -0.181119\n1  0.077734 -0.406285 -0.218716\n2 -0.238105  0.194084 -0.004555\n3 -0.233494 -0.023479  0.566463\n4  0.376729  0.077309 -0.162073\n"
     ]
    }
   ],
   "source": [
    "df = pd.DataFrame(np.random.random(size=(5, 3))) # a 5x3 frame of float values\n",
    "result = df - df.describe().loc['mean']\n",
    "print(result)\n",
    "\n",
    "# later on I've found this solution on peers review, I find it smarter ;)\n",
    "# result = df.sub(df.mean(axis=1), axis=0)"
   ]
  },
  {
   "cell_type": "code",
   "execution_count": 12,
   "id": "17b47bf1",
   "metadata": {
    "deletable": false,
    "editable": false,
    "nbgrader": {
     "cell_type": "code",
     "checksum": "f90e767793f0b8bb939565a5a3c4e4fb",
     "grade": true,
     "grade_id": "cell-8ceb24481d7d7a28",
     "locked": true,
     "points": 2,
     "schema_version": 3,
     "solution": false,
     "task": false
    }
   },
   "outputs": [],
   "source": [
    "assert df.shape == (5,3)\n",
    "assert df[0].max() <= 1\n",
    "assert df[0].min() >= -1"
   ]
  },
  {
   "cell_type": "markdown",
   "id": "9997b0e4",
   "metadata": {},
   "source": [
    "**24.** Suppose you have DataFrame with 10 columns of real numbers, for example:\n",
    "\n",
    "```python\n",
    "df = pd.DataFrame(np.random.random(size=(5, 10)), columns=list('abcdefghij'))\n",
    "```\n",
    "Which column of numbers has the smallest sum? (Find that column's label.)"
   ]
  },
  {
   "cell_type": "code",
   "execution_count": 16,
   "id": "49be51c9",
   "metadata": {
    "deletable": false,
    "nbgrader": {
     "cell_type": "code",
     "checksum": "6ab6fa19a5253c63280eb71adfebf362",
     "grade": false,
     "grade_id": "cell-7830a1e1958310b9",
     "locked": false,
     "schema_version": 3,
     "solution": true,
     "task": false
    }
   },
   "outputs": [],
   "source": [
    "# YOUR CODE HERE\n",
    "df = pd.DataFrame(np.random.random(size=(5, 10)), columns=list('abcdefghij'))\n",
    "idx = df.sum().idxmin()"
   ]
  },
  {
   "cell_type": "code",
   "execution_count": 18,
   "id": "da754e27",
   "metadata": {
    "deletable": false,
    "editable": false,
    "nbgrader": {
     "cell_type": "code",
     "checksum": "87fb1864d1694cfcc986ee256197c725",
     "grade": true,
     "grade_id": "cell-a0daad4562804d2a",
     "locked": true,
     "points": 2,
     "schema_version": 3,
     "solution": false,
     "task": false
    }
   },
   "outputs": [],
   "source": [
    "assert idx in 'abcdefghij'"
   ]
  },
  {
   "cell_type": "markdown",
   "id": "0f5ad376",
   "metadata": {},
   "source": [
    "The next three puzzles are slightly harder...\n",
    "\n",
    "**26.** You have a DataFrame that consists of 10 columns of floating--point numbers. Suppose that exactly 5 entries in each row are NaN values. For each row of the DataFrame, find the *column* which contains the *third* NaN value.\n",
    "\n",
    "(You should return a Series of column labels.)"
   ]
  },
  {
   "cell_type": "code",
   "execution_count": 51,
   "id": "aed38335",
   "metadata": {
    "deletable": false,
    "nbgrader": {
     "cell_type": "code",
     "checksum": "f9b4c483a0a3d7ad33e1de0a45630896",
     "grade": false,
     "grade_id": "cell-e4f640a69590b406",
     "locked": false,
     "schema_version": 3,
     "solution": true,
     "task": false
    }
   },
   "outputs": [],
   "source": [
    "data = {\n",
    "    1:[np.nan,2,np.nan,4,5],\n",
    "    2:[np.nan,2,3,np.nan,5],\n",
    "    3:[np.nan,2,np.nan,4,5],\n",
    "    4:[1,np.nan,3,np.nan,np.nan],\n",
    "    5:[1,2,np.nan,4,5],\n",
    "    6:[1,np.nan,3,np.nan,np.nan],\n",
    "    7:[1,2,3,4,5],\n",
    "    8:[1,np.nan,3,np.nan,np.nan],\n",
    "    9:[1,2,3,4,np.nan],\n",
    "    10:[1,np.nan,3,4,5]\n",
    "}\n",
    "# YOUR CODE HERE\n",
    "df = pd.DataFrame(data)\n",
    "tf_frame = df.isna()\n",
    "cumsum_frame = tf_frame.cumsum(axis=1)\n",
    "res = (cumsum_frame == 3).idxmax(axis=1)\n",
    "indexes = list(res)"
   ]
  },
  {
   "cell_type": "code",
   "execution_count": 52,
   "id": "391018d1",
   "metadata": {
    "deletable": false,
    "editable": false,
    "nbgrader": {
     "cell_type": "code",
     "checksum": "fa80dfc4b3777b1a7c41b5ba1c03d280",
     "grade": true,
     "grade_id": "cell-182477a2beb50458",
     "locked": true,
     "points": 3,
     "schema_version": 3,
     "solution": false,
     "task": false
    }
   },
   "outputs": [],
   "source": [
    "assert indexes == [3, 8, 5, 6, 8]\n",
    "assert res.shape == (5,)\n",
    "assert list(res.values) == [3, 8, 5, 6, 8]"
   ]
  },
  {
   "cell_type": "markdown",
   "id": "3d5ac1b1",
   "metadata": {},
   "source": [
    "**27.** A DataFrame has a column of groups 'grps' and and column of numbers 'vals'. For example: \n",
    "\n",
    "```python\n",
    "df = pd.DataFrame({'grps': list('aaabbcaabcccbbc'), \n",
    "                   'vals': [12,345,3,1,45,14,4,52,54,23,235,21,57,3,87]})\n",
    "```\n",
    "For each *group*, find the sum of the three greatest values."
   ]
  },
  {
   "cell_type": "code",
   "execution_count": 57,
   "id": "25177de1",
   "metadata": {
    "deletable": false,
    "nbgrader": {
     "cell_type": "code",
     "checksum": "26ce40c0d6394d3cc9069647f6e357b1",
     "grade": false,
     "grade_id": "cell-da30c3e27df05854",
     "locked": false,
     "schema_version": 3,
     "solution": true,
     "task": false
    }
   },
   "outputs": [],
   "source": [
    "df = pd.DataFrame({'grps': list('aaabbcaabcccbbc'), \n",
    "                   'vals': [12,345,3,1,45,14,4,52,54,23,235,21,57,3,87]})\n",
    "# YOUR CODE HERE\n",
    "res = df.groupby(\"grps\").vals.nlargest(3).sum(level=0)"
   ]
  },
  {
   "cell_type": "code",
   "execution_count": 58,
   "id": "f3775db4",
   "metadata": {
    "deletable": false,
    "editable": false,
    "nbgrader": {
     "cell_type": "code",
     "checksum": "a7aa37ae096816ec65ce29051a3effe0",
     "grade": true,
     "grade_id": "cell-dd5c34897ebaa573",
     "locked": true,
     "points": 3,
     "schema_version": 3,
     "solution": false,
     "task": false
    }
   },
   "outputs": [],
   "source": [
    "assert res.values[0] == 409\n",
    "assert res.values[1] == 156\n",
    "assert res.values[2] == 345"
   ]
  }
 ],
 "metadata": {
  "kernelspec": {
   "name": "python395jvsc74a57bd094b49db40a5e2f90e1261b42b895f492c26c91cf2ea0af1676d8b7fdc224e8a1",
   "display_name": "Python 3.9.5 64-bit ('pandas_exercises': conda)"
  },
  "language_info": {
   "codemirror_mode": {
    "name": "ipython",
    "version": 3
   },
   "file_extension": ".py",
   "mimetype": "text/x-python",
   "name": "python",
   "nbconvert_exporter": "python",
   "pygments_lexer": "ipython3",
   "version": "3.9.5"
  },
  "varInspector": {
   "cols": {
    "lenName": 16,
    "lenType": 16,
    "lenVar": 40
   },
   "kernels_config": {
    "python": {
     "delete_cmd_postfix": "",
     "delete_cmd_prefix": "del ",
     "library": "var_list.py",
     "varRefreshCmd": "print(var_dic_list())"
    },
    "r": {
     "delete_cmd_postfix": ") ",
     "delete_cmd_prefix": "rm(",
     "library": "var_list.r",
     "varRefreshCmd": "cat(var_dic_list()) "
    }
   },
   "types_to_exclude": [
    "module",
    "function",
    "builtin_function_or_method",
    "instance",
    "_Feature"
   ],
   "window_display": false
  }
 },
 "nbformat": 4,
 "nbformat_minor": 5
}